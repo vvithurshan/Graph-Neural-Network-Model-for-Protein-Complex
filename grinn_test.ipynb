{
  "cells": [
    {
      "cell_type": "markdown",
      "metadata": {
        "id": "view-in-github",
        "colab_type": "text"
      },
      "source": [
        "<a href=\"https://colab.research.google.com/github/vvithurshan/Graph-Neural-Network-Model-generator-for-Protein-Complex/blob/main/grinn_test.ipynb\" target=\"_parent\"><img src=\"https://colab.research.google.com/assets/colab-badge.svg\" alt=\"Open In Colab\"/></a>"
      ]
    },
    {
      "cell_type": "code",
      "execution_count": null,
      "metadata": {
        "id": "ISjtHlTp8zO3"
      },
      "outputs": [],
      "source": [
        "import pandas as pd\n",
        "import numpy as np\n",
        "import mdtraj as md\n",
        "import os\n",
        "import MDAnalysis as mda\n",
        "import networkx as nx\n",
        "import numpy as np\n",
        "import torch\n",
        "from Bio.SeqUtils import seq1\n",
        "from transformers import AutoTokenizer, AutoModel\n",
        "from collections import defaultdict\n",
        "import pickle\n",
        "from sklearn.model_selection import train_test_split"
      ]
    },
    {
      "cell_type": "code",
      "execution_count": null,
      "metadata": {
        "id": "Nilodwe28zO8"
      },
      "outputs": [],
      "source": [
        "df = pd.read_csv(\"Actual_12A21_VRC01.csv\")"
      ]
    },
    {
      "cell_type": "code",
      "execution_count": null,
      "metadata": {
        "id": "s_OgxuG18zO9"
      },
      "outputs": [],
      "source": [
        "protbert_dict = defaultdict(lambda: None)\n",
        "\n",
        "def ProtBert(aa):\n",
        "    with torch.no_grad():\n",
        "        if protbert_dict[aa] is not None:\n",
        "            return protbert_dict[aa]\n",
        "        tokenizer = AutoTokenizer.from_pretrained(\"Rostlab/prot_bert\")\n",
        "        model = AutoModel.from_pretrained(\"Rostlab/prot_bert\")\n",
        "        token = tokenizer.encode(aa, add_special_tokens=False)\n",
        "        token_tensor = torch.tensor([token]) \n",
        "        embeddings = model(token_tensor).last_hidden_state\n",
        "        protbert_dict[aa] = embeddings\n",
        "    return embeddings"
      ]
    },
    {
      "cell_type": "code",
      "execution_count": null,
      "metadata": {
        "id": "SZ_XGDhf8zO-"
      },
      "outputs": [],
      "source": [
        "Graph_lst = []\n",
        "IC50_lst = []\n",
        "chain_encoding = {'A':0,'B':1,'C':2}\n",
        "chain_encoding_for_energy = {'A':'H','B':'L','C':'G'}\n",
        "\n",
        "for index, row in df.iterrows():\n",
        "    name = row['Concat']\n",
        "    ic50 = row['IC50_median']\n",
        "\n",
        "    pdb_location = f\"CHARMM-GRINN/{name}/{name}.pdb\"\n",
        "    if not os.path.isfile(pdb_location):\n",
        "        continue\n",
        "\n",
        "    pickle_loc = f\"CHARMM-GRINN/{name}/grinn_output/energies.pickle\"\n",
        "\n",
        "    if not os.path.isfile(pickle_loc):\n",
        "        continue\n",
        "\n",
        "    pdb = md.load(pdb_location)\n",
        "    top = pdb.topology\n",
        "    u = mda.Universe(pdb_location)\n",
        "    chain_ids = [i.segid for i in u.segments]\n",
        "\n",
        "    G = nx.Graph()\n",
        "    seq_lst = []\n",
        "    for chain in top.chains:\n",
        "        for residue in chain.residues:\n",
        "            chain_id = chain_ids[chain.index]\n",
        "            residue_name = residue.name\n",
        "            residue_id = residue.resSeq\n",
        "            residue = u.select_atoms(f\"resid {residue_id}\")\n",
        "            ca_atom = residue.select_atoms(\"name CA\")\n",
        "            ca_atom_position = ca_atom.positions[0]\n",
        "            node = f\"{chain_id}_{residue_name}_{residue_id}\"\n",
        "            G.add_node(node)\n",
        "            seq = f\"{chain_encoding_for_energy[chain_id]}{residue_name}{residue_id}\"\n",
        "            seq_lst.append(seq)\n",
        "\n",
        "            ## add feature\n",
        "            AA = seq1(residue_name)\n",
        "            G.nodes[node]['Encoding'] =ProtBert(AA)\n",
        "            G.nodes[node]['Chain_id'] = chain_encoding[chain_id]\n",
        "            G.nodes[node]['CA_coords'] = ca_atom_position\n",
        "\n",
        "    ## pickle\n",
        "    energies = pickle.load(open(pickle_loc,'rb'))\n",
        "    # energies['EASN34-EGLN64']['Total']\n",
        "\n",
        "    for pair_1 in range(len(seq_lst) - 1):\n",
        "        for pair_2 in range(1, len(seq_lst)):\n",
        "            pair = f\"{seq_lst[pair_1]}-{seq_lst[pair_2]}\"\n",
        "            try:\n",
        "                pairwise_energy_lst = energies[pair]['Total']\n",
        "            except:\n",
        "                continue\n",
        "            else:\n",
        "                pairwise_energy = np.mean(pairwise_energy_lst)\n",
        "                if pairwise_energy <= -2:\n",
        "                    G.add_edge(pair_1, pair_2, weight = pairwise_energy)\n",
        "\n",
        "    Graph_lst.append(G)\n",
        "    IC50_lst.append(ic50)\n",
        "\n",
        "X_train, X_test, y_train, y_test = train_test_split(Graph_lst, IC50_lst, test_size=0.2)            "
      ]
    },
    {
      "cell_type": "code",
      "execution_count": null,
      "metadata": {
        "id": "T4KikPhR8zO_"
      },
      "outputs": [],
      "source": [
        "Graph_lst[0].nodes(data=True)"
      ]
    },
    {
      "cell_type": "code",
      "execution_count": null,
      "metadata": {
        "id": "JkT7kWsU8zO_"
      },
      "outputs": [],
      "source": [
        "print(Graph_lst[0].edges(data=True))\n"
      ]
    }
  ],
  "metadata": {
    "kernelspec": {
      "display_name": "Machine-Learning",
      "language": "python",
      "name": "python3"
    },
    "language_info": {
      "codemirror_mode": {
        "name": "ipython",
        "version": 3
      },
      "file_extension": ".py",
      "mimetype": "text/x-python",
      "name": "python",
      "nbconvert_exporter": "python",
      "pygments_lexer": "ipython3",
      "version": "3.9.15"
    },
    "orig_nbformat": 4,
    "vscode": {
      "interpreter": {
        "hash": "1b173bd2b8203f09e53d07427f25d579d159175d54051585125192f9427d86f4"
      }
    },
    "colab": {
      "provenance": [],
      "include_colab_link": true
    }
  },
  "nbformat": 4,
  "nbformat_minor": 0
}